{
 "cells": [
  {
   "cell_type": "code",
   "execution_count": 3,
   "metadata": {},
   "outputs": [],
   "source": [
    "import tensorflow as tf\n",
    "from tensorflow.keras import layers, models\n",
    "from tensorflow.keras.preprocessing.image import ImageDataGenerator\n"
   ]
  },
  {
   "cell_type": "code",
   "execution_count": 4,
   "metadata": {},
   "outputs": [],
   "source": [
    "import numpy as np\n",
    "import matplotlib.pyplot as plt\n",
    "from tensorflow.keras.preprocessing import image\n",
    "import random\n",
    "import os"
   ]
  },
  {
   "cell_type": "code",
   "execution_count": 6,
   "metadata": {},
   "outputs": [
    {
     "name": "stdout",
     "output_type": "stream",
     "text": [
      "Found 220 images belonging to 2 classes.\n",
      "Found 80 images belonging to 2 classes.\n",
      "Epoch 1/20\n",
      "7/7 [==============================] - 15s 2s/step - loss: 0.7162 - accuracy: 0.4955 - val_loss: 0.6933 - val_accuracy: 0.5000\n",
      "Epoch 2/20\n",
      "7/7 [==============================] - 13s 2s/step - loss: 0.6946 - accuracy: 0.4591 - val_loss: 0.6927 - val_accuracy: 0.5125\n",
      "Epoch 3/20\n",
      "7/7 [==============================] - 13s 2s/step - loss: 0.6926 - accuracy: 0.5364 - val_loss: 0.6928 - val_accuracy: 0.5125\n",
      "Epoch 4/20\n",
      "7/7 [==============================] - 13s 2s/step - loss: 0.6907 - accuracy: 0.5591 - val_loss: 0.6910 - val_accuracy: 0.5625\n",
      "Epoch 5/20\n",
      "7/7 [==============================] - 13s 2s/step - loss: 0.6908 - accuracy: 0.5727 - val_loss: 0.6886 - val_accuracy: 0.5375\n",
      "Epoch 6/20\n",
      "7/7 [==============================] - 13s 2s/step - loss: 0.6746 - accuracy: 0.5682 - val_loss: 0.7002 - val_accuracy: 0.5375\n",
      "Epoch 7/20\n",
      "7/7 [==============================] - 13s 2s/step - loss: 0.6733 - accuracy: 0.5545 - val_loss: 0.6885 - val_accuracy: 0.5500\n",
      "Epoch 8/20\n",
      "7/7 [==============================] - 13s 2s/step - loss: 0.6348 - accuracy: 0.6682 - val_loss: 0.7137 - val_accuracy: 0.5750\n",
      "Epoch 9/20\n",
      "7/7 [==============================] - 13s 2s/step - loss: 0.5729 - accuracy: 0.7136 - val_loss: 0.7526 - val_accuracy: 0.5375\n",
      "Epoch 10/20\n",
      "7/7 [==============================] - 13s 2s/step - loss: 0.5419 - accuracy: 0.6818 - val_loss: 0.7054 - val_accuracy: 0.5750\n",
      "Epoch 11/20\n",
      "7/7 [==============================] - 13s 2s/step - loss: 0.5026 - accuracy: 0.7909 - val_loss: 0.8235 - val_accuracy: 0.6125\n",
      "Epoch 12/20\n",
      "7/7 [==============================] - 13s 2s/step - loss: 0.3903 - accuracy: 0.8273 - val_loss: 0.9598 - val_accuracy: 0.6250\n",
      "Epoch 13/20\n",
      "7/7 [==============================] - 13s 2s/step - loss: 0.3338 - accuracy: 0.8727 - val_loss: 1.1448 - val_accuracy: 0.6125\n",
      "Epoch 14/20\n",
      "7/7 [==============================] - 13s 2s/step - loss: 0.2360 - accuracy: 0.9227 - val_loss: 1.0751 - val_accuracy: 0.5750\n",
      "Epoch 15/20\n",
      "7/7 [==============================] - 13s 2s/step - loss: 0.1641 - accuracy: 0.9318 - val_loss: 1.4881 - val_accuracy: 0.5875\n",
      "Epoch 16/20\n",
      "7/7 [==============================] - 13s 2s/step - loss: 0.0996 - accuracy: 0.9682 - val_loss: 1.5018 - val_accuracy: 0.6375\n",
      "Epoch 17/20\n",
      "7/7 [==============================] - 13s 2s/step - loss: 0.0670 - accuracy: 0.9773 - val_loss: 2.0289 - val_accuracy: 0.6875\n",
      "Epoch 18/20\n",
      "7/7 [==============================] - 13s 2s/step - loss: 0.0398 - accuracy: 0.9909 - val_loss: 2.5731 - val_accuracy: 0.6375\n",
      "Epoch 19/20\n",
      "7/7 [==============================] - 13s 2s/step - loss: 0.0239 - accuracy: 0.9909 - val_loss: 2.3692 - val_accuracy: 0.6250\n",
      "Epoch 20/20\n",
      "7/7 [==============================] - 13s 2s/step - loss: 0.0415 - accuracy: 0.9773 - val_loss: 2.8489 - val_accuracy: 0.5875\n"
     ]
    }
   ],
   "source": [
    "# 資料夾路徑（請確保結構為 train/men, train/women, test/men, test/women）\n",
    "train_dir = 'train'\n",
    "test_dir = 'test'\n",
    "\n",
    "# 圖片大小與參數\n",
    "img_height, img_width = 128, 128\n",
    "batch_size = 32\n",
    "\n",
    "# 🧼 僅標準化，不做任何增強\n",
    "train_datagen = ImageDataGenerator(rescale=1./255)\n",
    "test_datagen = ImageDataGenerator(rescale=1./255)\n",
    "\n",
    "# 建立資料生成器\n",
    "train_generator = train_datagen.flow_from_directory(\n",
    "    train_dir,\n",
    "    target_size=(img_height, img_width),\n",
    "    batch_size=batch_size,\n",
    "    class_mode='binary'\n",
    ")\n",
    "\n",
    "test_generator = test_datagen.flow_from_directory(\n",
    "    test_dir,\n",
    "    target_size=(img_height, img_width),\n",
    "    batch_size=batch_size,\n",
    "    class_mode='binary'\n",
    ")\n",
    "\n",
    "# 🧠 純粹 CNN 模型（無正則化、無資料增強）\n",
    "model = models.Sequential([\n",
    "    layers.Conv2D(256, (3, 3), activation='relu', input_shape=(img_height, img_width, 3)),\n",
    "    layers.MaxPooling2D(pool_size=(2, 2)),\n",
    "\n",
    "    layers.Conv2D(128, (3, 3), activation='relu'),\n",
    "    layers.MaxPooling2D(pool_size=(2, 2)),\n",
    "\n",
    "    layers.Conv2D(64, (3, 3), activation='relu'),\n",
    "    layers.MaxPooling2D(pool_size=(2, 2)),\n",
    "\n",
    "    layers.Flatten(),\n",
    "    layers.Dense(64, activation='relu'),\n",
    "    layers.Dense(1, activation='sigmoid')  # 二元分類輸出\n",
    "])\n",
    "\n",
    "# 編譯模型\n",
    "model.compile(\n",
    "    optimizer='adam',\n",
    "    loss='binary_crossentropy',\n",
    "    metrics=['accuracy']\n",
    ")\n",
    "\n",
    "# 🏋️‍♂️ 開始訓練\n",
    "history = model.fit(\n",
    "    train_generator,\n",
    "    epochs=20,\n",
    "    validation_data=test_generator\n",
    ")\n"
   ]
  }
 ],
 "metadata": {
  "interpreter": {
   "hash": "9dba1817d450826ae9ba58384c1667cc25a1aec3c35e43cf7561010a3ce24b3c"
  },
  "kernelspec": {
   "display_name": "Python 3.7.16 ('tensor')",
   "language": "python",
   "name": "python3"
  },
  "language_info": {
   "codemirror_mode": {
    "name": "ipython",
    "version": 3
   },
   "file_extension": ".py",
   "mimetype": "text/x-python",
   "name": "python",
   "nbconvert_exporter": "python",
   "pygments_lexer": "ipython3",
   "version": "3.7.16"
  },
  "orig_nbformat": 4
 },
 "nbformat": 4,
 "nbformat_minor": 2
}
