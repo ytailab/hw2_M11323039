{
 "cells": [
  {
   "cell_type": "code",
   "execution_count": 1,
   "metadata": {},
   "outputs": [],
   "source": [
    "from tensorflow.keras.callbacks import EarlyStopping"
   ]
  },
  {
   "cell_type": "code",
   "execution_count": 3,
   "metadata": {},
   "outputs": [
    {
     "name": "stdout",
     "output_type": "stream",
     "text": [
      "Found 220 images belonging to 2 classes.\n",
      "Found 80 images belonging to 2 classes.\n",
      "Epoch 1/10\n",
      "7/7 [==============================] - 14s 2s/step - loss: 1.2125 - accuracy: 0.4773 - val_loss: 0.6928 - val_accuracy: 0.5375\n",
      "Epoch 2/10\n",
      "7/7 [==============================] - 13s 2s/step - loss: 0.6940 - accuracy: 0.5136 - val_loss: 0.7072 - val_accuracy: 0.5000\n",
      "Epoch 3/10\n",
      "7/7 [==============================] - 13s 2s/step - loss: 0.7007 - accuracy: 0.5318 - val_loss: 0.6922 - val_accuracy: 0.5000\n",
      "Epoch 4/10\n",
      "7/7 [==============================] - 13s 2s/step - loss: 0.6932 - accuracy: 0.4955 - val_loss: 0.6923 - val_accuracy: 0.5000\n",
      "Epoch 5/10\n",
      "7/7 [==============================] - 13s 2s/step - loss: 0.6944 - accuracy: 0.5045 - val_loss: 0.6923 - val_accuracy: 0.5000\n",
      "Epoch 6/10\n",
      "7/7 [==============================] - 13s 2s/step - loss: 0.6935 - accuracy: 0.5045 - val_loss: 0.6930 - val_accuracy: 0.5375\n",
      "Epoch 7/10\n",
      "7/7 [==============================] - 13s 2s/step - loss: 0.6930 - accuracy: 0.5045 - val_loss: 0.6931 - val_accuracy: 0.5750\n",
      "Epoch 8/10\n",
      "7/7 [==============================] - 13s 2s/step - loss: 0.6933 - accuracy: 0.5273 - val_loss: 0.6926 - val_accuracy: 0.4875\n",
      "Epoch 9/10\n",
      "7/7 [==============================] - 13s 2s/step - loss: 0.6911 - accuracy: 0.5455 - val_loss: 0.6918 - val_accuracy: 0.5750\n",
      "Epoch 10/10\n",
      "7/7 [==============================] - 13s 2s/step - loss: 0.6897 - accuracy: 0.5455 - val_loss: 0.6954 - val_accuracy: 0.4875\n"
     ]
    }
   ],
   "source": [
    "import tensorflow as tf\n",
    "from tensorflow.keras import layers, models\n",
    "from tensorflow.keras.preprocessing.image import ImageDataGenerator\n",
    "\n",
    "# 資料夾路徑（請確保結構為 train/men, train/women, test/men, test/women）\n",
    "train_dir = 'train'\n",
    "test_dir = 'test'\n",
    "\n",
    "# 圖片大小與參數\n",
    "img_height, img_width = 128, 128\n",
    "batch_size = 32\n",
    "\n",
    "# 🧼 僅標準化，不做任何增強\n",
    "train_datagen = ImageDataGenerator(\n",
    "    rescale=1./255,             # 基本正規化\n",
    "    rotation_range=15,          # 隨機旋轉 ±15 度\n",
    "    width_shift_range=0.1,      # 隨機水平平移 ±10%\n",
    "    height_shift_range=0.1,     # 隨機垂直平移 ±10%\n",
    "    zoom_range=0.1,             # 隨機縮放 ±10%\n",
    "    horizontal_flip=True,       # 隨機水平翻轉（對臉部有效）\n",
    "    fill_mode='nearest'         # 空白像素填補方式\n",
    ")\n",
    "\n",
    "\n",
    "test_datagen = ImageDataGenerator(rescale=1./255)\n",
    "\n",
    "# 建立資料生成器\n",
    "train_generator = train_datagen.flow_from_directory(\n",
    "    train_dir,\n",
    "    target_size=(img_height, img_width),\n",
    "    batch_size=batch_size,\n",
    "    class_mode='binary'\n",
    ")\n",
    "\n",
    "test_generator = test_datagen.flow_from_directory(\n",
    "    test_dir,\n",
    "    target_size=(img_height, img_width),\n",
    "    batch_size=batch_size,\n",
    "    class_mode='binary'\n",
    ")\n",
    "\n",
    "# 🧠 純粹 CNN 模型（無正則化、無資料增強）\n",
    "model = models.Sequential([\n",
    "    layers.Conv2D(64, (3, 3), activation='relu', input_shape=(img_height, img_width, 3)),\n",
    "    layers.MaxPooling2D(pool_size=(2, 2)),\n",
    "\n",
    "    layers.Conv2D(32, (3, 3), activation='relu'),\n",
    "    layers.MaxPooling2D(pool_size=(2, 2)),\n",
    "\n",
    "\n",
    "    layers.Flatten(),\n",
    "    layers.Dense(64, activation='relu'),\n",
    "    layers.Dense(1, activation='sigmoid')  # 二元分類輸出\n",
    "])\n",
    "early_stopping = EarlyStopping(\n",
    "    monitor='accuracy',         # 監控驗證損失\n",
    "    patience=1,                 # 容忍 3 個 epoch 沒進步\n",
    "    restore_best_weights=True  # 回復到最佳的權重\n",
    ")\n",
    "# 編譯模型\n",
    "model.compile(\n",
    "    optimizer='adam',\n",
    "    loss='binary_crossentropy',\n",
    "    metrics=['accuracy']\n",
    ")\n",
    "\n",
    "# 🏋️‍♂️ 開始訓練\n",
    "history = model.fit(\n",
    "    train_generator,\n",
    "    epochs=10,\n",
    "    validation_data=test_generator\n",
    ")\n"
   ]
  },
  {
   "cell_type": "code",
   "execution_count": null,
   "metadata": {},
   "outputs": [],
   "source": []
  }
 ],
 "metadata": {
  "interpreter": {
   "hash": "9dba1817d450826ae9ba58384c1667cc25a1aec3c35e43cf7561010a3ce24b3c"
  },
  "kernelspec": {
   "display_name": "Python 3.7.16 ('tensor')",
   "language": "python",
   "name": "python3"
  },
  "language_info": {
   "codemirror_mode": {
    "name": "ipython",
    "version": 3
   },
   "file_extension": ".py",
   "mimetype": "text/x-python",
   "name": "python",
   "nbconvert_exporter": "python",
   "pygments_lexer": "ipython3",
   "version": "3.7.16"
  },
  "orig_nbformat": 4
 },
 "nbformat": 4,
 "nbformat_minor": 2
}
